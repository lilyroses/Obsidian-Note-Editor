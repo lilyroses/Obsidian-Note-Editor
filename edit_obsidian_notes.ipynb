{
 "cells": [
  {
   "cell_type": "code",
   "execution_count": null,
   "metadata": {},
   "outputs": [],
   "source": [
    "import re\n",
    "import os"
   ]
  },
  {
   "cell_type": "code",
   "execution_count": null,
   "metadata": {},
   "outputs": [],
   "source": [
    "filenames = os.listdir()"
   ]
  },
  {
   "cell_type": "code",
   "execution_count": null,
   "metadata": {},
   "outputs": [],
   "source": [
    "for filename in filenames:\n",
    "    print(filename)"
   ]
  },
  {
   "cell_type": "code",
   "execution_count": null,
   "metadata": {},
   "outputs": [],
   "source": [
    "# First, get the names of each markdown file. These\n",
    "# filenames will be the basis of the tag links. As such,\n",
    "# the spaces and punctuation contained within them are\n",
    "# important. \n",
    "\n",
    "# Second, for each Markdown file, parse the entire file\n",
    "# to check for words/phrases that match any of the\n",
    "# filenames. If the filenames are wrapped in [[]]\n",
    "# characters, ignore. Otherwise, the filename must match\n",
    "# the word/phrase exactly. \n",
    "\n",
    "# If there is a match found, create a link to the\n",
    "# existing filename. For example: \n",
    "# Existing filename: Git.md\n",
    "# Filename path: Obsidian-Notes/VCS/Git.md\n",
    "# filename: Git\n",
    "# dirs: [VCS]\n",
    "# Check all Markdown files EXCEPT Git.md for the term\n",
    "# \"Git\" (or \"git\"):\n",
    "# If the term Git is found (NOT contained within [[]]):\n",
    "# Add a link to the existing \"Git.md\" file by:\n",
    "# link = '[[' \n",
    "# if dirs:\n",
    "# for dir in dirs:\n",
    "# path = '/'.join(dir)\n",
    "# link += path\n",
    "# link += '|'\n",
    "# link += filename\n",
    "# \n",
    "\n",
    "# [[VCS/Git|git]]\n",
    "# Adding [[]] characters around the word \"git\"\n",
    "# "
   ]
  },
  {
   "cell_type": "code",
   "execution_count": null,
   "metadata": {},
   "outputs": [],
   "source": []
  },
  {
   "cell_type": "code",
   "execution_count": 8,
   "metadata": {},
   "outputs": [
    {
     "name": "stdout",
     "output_type": "stream",
     "text": [
      "[[Example Dir/Example/Test|test]]\n"
     ]
    }
   ],
   "source": [
    "dirs = ['Example Dir', 'Example']\n",
    "filename = 'Test'\n",
    "word = 'test'\n",
    "\n",
    "link = '[['\n",
    "if dirs:\n",
    "    path = ''\n",
    "    for d in dirs:\n",
    "        path += d + '/'\n",
    "    link += path\n",
    "link += filename\n",
    "link += '|'\n",
    "link += word\n",
    "link += ']]'\n",
    "\n",
    "print(link)"
   ]
  }
 ],
 "metadata": {
  "kernelspec": {
   "display_name": "Python 3",
   "language": "python",
   "name": "python3"
  },
  "language_info": {
   "codemirror_mode": {
    "name": "ipython",
    "version": 3
   },
   "file_extension": ".py",
   "mimetype": "text/x-python",
   "name": "python",
   "nbconvert_exporter": "python",
   "pygments_lexer": "ipython3",
   "version": "3.10.12"
  }
 },
 "nbformat": 4,
 "nbformat_minor": 2
}
