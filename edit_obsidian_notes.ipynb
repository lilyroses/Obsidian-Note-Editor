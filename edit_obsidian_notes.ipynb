{
 "cells": [
  {
   "cell_type": "markdown",
   "metadata": {},
   "source": []
  },
  {
   "cell_type": "code",
   "execution_count": 1,
   "metadata": {},
   "outputs": [],
   "source": [
    "import glob\n",
    "import re\n",
    "import os\n",
    "import pathlib"
   ]
  },
  {
   "cell_type": "code",
   "execution_count": 2,
   "metadata": {},
   "outputs": [],
   "source": [
    "os.chdir('/home/lilyroses/Obsidian-Notes/')"
   ]
  },
  {
   "cell_type": "code",
   "execution_count": 20,
   "metadata": {},
   "outputs": [
    {
     "name": "stdout",
     "output_type": "stream",
     "text": [
      "['Bash Shortcuts.md', 'new.md', 'Test.md', 'Bandit.md']\n"
     ]
    }
   ],
   "source": [
    "# Get a list of the Obsidian-Vault contents, and split\n",
    "# the pathnames by directories and filename (excluding\n",
    "# the root directory).\n",
    "\n",
    "# Don't consider anything within the '.obsidian' folder\n",
    "ignore = '.obsidian'\n",
    "\n",
    "obsidian_vault = pathlib.Path('/home/lilyroses/Obsidian-Notes/')\n",
    "\n",
    "# Create variable for iterable\n",
    "abs_filepaths = [abs_filepath for abs_filepath in obsidian_vault.rglob(\"*.md\")]\n",
    "\n",
    "root_dir = '/home/lilyroses/Obsidian-Notes/'\n",
    "# Hold abs paths of each item in Obsidian-Notes (excepting .obsidian folder,\n",
    "# as we ignored it earlier)\n",
    "\n",
    "relative_filepaths = []\n",
    "\n",
    "for abs_filepath in abs_filepaths:\n",
    "    # Change to str, or item with be a Path object\n",
    "    abs_filepath = str(abs_filepath)\n",
    "    # Get rid of the root directories of the files\n",
    "    relative_filepath = abs_filepath.replace(root_dir, '')\n",
    "    relative_filepaths.append(relative_filepath)\n",
    "\n",
    "split_paths = []\n",
    "filenames = []\n",
    "# For each filename, separate the folders from the\n",
    "for relative_filepath in relative_filepaths:\n",
    "    split_path = []\n",
    "    if '/' in relative_filepath:\n",
    "        i = relative_filepath.rfind('/') + 1\n",
    "        dirs = relative_filepath[:i]\n",
    "        # filename = relative_filepath[i:-3]\n",
    "        filename = relative_filepath[i:]\n",
    "        filenames.append(filename)\n",
    "        split_path.append(dirs)\n",
    "        split_path.append(filename)\n",
    "        # print(split_path)\n",
    "    else:\n",
    "        split_path.append(relative_filepath)\n",
    "        filenames.append(relative_filepath)\n",
    "        # print(split_path)\n",
    "    split_paths.append(split_path)\n",
    "\n",
    "\n",
    "# print(split_paths)\n",
    "# print(abs_filepaths)\n",
    "print(filenames)"
   ]
  },
  {
   "cell_type": "code",
   "execution_count": 16,
   "metadata": {},
   "outputs": [
    {
     "name": "stdout",
     "output_type": "stream",
     "text": [
      "/home/lilyroses/Obsidian-Notes/Bash Shortcuts.md\n",
      "/home/lilyroses/Obsidian-Notes/new.md\n",
      "/home/lilyroses/Obsidian-Notes/Example Dir/Test.md\n",
      "/home/lilyroses/Obsidian-Notes/Over the Wire/Bandit.md\n"
     ]
    }
   ],
   "source": [
    "filename_tags = []\n",
    "\n",
    "for paths in split_paths:\n",
    "    filename = paths[-1]\n",
    "    filename_tag = filename[:-3]\n",
    "    filename_tags.append(filename_tag.lower())\n",
    "# print(filename_tags)\n",
    "    \n",
    "\n",
    "copy_files = []\n",
    "for abs_filepath in abs_filepaths:\n",
    "    print(abs_filepath)\n",
    "        # copy_file = f'{abs_filepath}_copy.txt'\n",
    "\n",
    "        # with open(abs_filepath, 'r') as f_og, open(copy_file, 'w') as f_cp:\n",
    "\n",
    "            # f_cp.write(f_og.read())\n",
    "\n",
    "\n",
    "        # print(text)\n",
    "            # for filename in filenames:\n",
    "                # if filename.lower() in text:\n",
    "                    # text = text.replace(word, f'[[]]')\n",
    "\n",
    "            # lines = [line.strip() for line in f.readlines()]\n",
    "            # words = text.split(' ')\n",
    "            # for word in words:\n",
    "            #     print(word)\n",
    "        "
   ]
  },
  {
   "cell_type": "code",
   "execution_count": null,
   "metadata": {},
   "outputs": [],
   "source": []
  },
  {
   "cell_type": "code",
   "execution_count": 5,
   "metadata": {},
   "outputs": [],
   "source": [
    "# First, get the names of each markdown file. These\n",
    "# filenames will be the basis of the tag links. As such,\n",
    "# the spaces and punctuation contained within them are\n",
    "# important. \n",
    "\n",
    "# Second, for each Markdown file, parse the entire file\n",
    "# to check for words/phrases that match any of the\n",
    "# filenames. If the filenames are wrapped in [[]]\n",
    "# characters, ignore. Otherwise, the filename must match\n",
    "# the word/phrase exactly. \n",
    "\n",
    "# If there is a match found, create a link to the\n",
    "# existing filename. For example: \n",
    "# Existing filename: Git.md\n",
    "# Filename path: Obsidian-Notes/VCS/Git.md\n",
    "# filename: Git\n",
    "# dirs: [VCS]\n",
    "# Check all Markdown files EXCEPT Git.md for the term\n",
    "# \"Git\" (or \"git\"):\n",
    "# If the term Git is found (NOT contained within [[]]):\n",
    "# Add a link to the existing \"Git.md\" file by:\n",
    "# link = '[[' \n",
    "# if dirs:\n",
    "# for dir in dirs:\n",
    "# path = '/'.join(dir)\n",
    "# link += path\n",
    "# link += '|'\n",
    "# link += filename\n",
    "# \n",
    "\n",
    "# [[VCS/Git|git]]\n",
    "# Adding [[]] characters around the word \"git\"\n",
    "# "
   ]
  },
  {
   "cell_type": "code",
   "execution_count": 6,
   "metadata": {},
   "outputs": [
    {
     "name": "stdout",
     "output_type": "stream",
     "text": [
      "[[Example Dir/Example/Test|test]]\n"
     ]
    }
   ],
   "source": [
    "dirs = ['Example Dir', 'Example']\n",
    "filename = 'Test'\n",
    "word = 'test'\n",
    "\n",
    "link = '[['\n",
    "if dirs:\n",
    "    path = ''\n",
    "    for d in dirs:\n",
    "        path += d + '/'\n",
    "    link += path\n",
    "link += filename\n",
    "link += '|'\n",
    "link += word\n",
    "link += ']]'\n",
    "\n",
    "print(link)"
   ]
  }
 ],
 "metadata": {
  "kernelspec": {
   "display_name": "Python 3",
   "language": "python",
   "name": "python3"
  },
  "language_info": {
   "codemirror_mode": {
    "name": "ipython",
    "version": 3
   },
   "file_extension": ".py",
   "mimetype": "text/x-python",
   "name": "python",
   "nbconvert_exporter": "python",
   "pygments_lexer": "ipython3",
   "version": "3.10.12"
  }
 },
 "nbformat": 4,
 "nbformat_minor": 2
}
